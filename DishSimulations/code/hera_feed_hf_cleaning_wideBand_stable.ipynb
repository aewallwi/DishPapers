{
 "cells": [
  {
   "cell_type": "markdown",
   "metadata": {},
   "source": [
    "Here we explore cleaning visibilities with the HERA delay response observed in simulations."
   ]
  },
  {
   "cell_type": "code",
   "execution_count": 1,
   "metadata": {
    "collapsed": false
   },
   "outputs": [],
   "source": [
    "%matplotlib inline\n",
    "workdir='../data/feedSim_hera_wideBand/'\n",
    "c=3e8"
   ]
  },
  {
   "cell_type": "code",
   "execution_count": 3,
   "metadata": {
    "collapsed": false
   },
   "outputs": [
    {
     "ename": "AttributeError",
     "evalue": "can't set attribute",
     "output_type": "error",
     "traceback": [
      "\u001b[0;31m---------------------------------------------------------------------------\u001b[0m",
      "\u001b[0;31mAttributeError\u001b[0m                            Traceback (most recent call last)",
      "\u001b[0;32m<ipython-input-3-d26ffa20d9bd>\u001b[0m in \u001b[0;36m<module>\u001b[0;34m()\u001b[0m\n\u001b[1;32m      3\u001b[0m \u001b[0;32mfrom\u001b[0m \u001b[0mscipy\u001b[0m \u001b[0;32mimport\u001b[0m \u001b[0msignal\u001b[0m \u001b[0;32mas\u001b[0m \u001b[0msignal\u001b[0m\u001b[0;34m\u001b[0m\u001b[0m\n\u001b[1;32m      4\u001b[0m \u001b[0;32mfrom\u001b[0m \u001b[0mmatplotlib\u001b[0m \u001b[0;32mimport\u001b[0m \u001b[0mgridspec\u001b[0m\u001b[0;34m\u001b[0m\u001b[0m\n\u001b[0;32m----> 5\u001b[0;31m \u001b[0;32mimport\u001b[0m \u001b[0mcosmology\u001b[0m\u001b[0;34m\u001b[0m\u001b[0m\n\u001b[0m\u001b[1;32m      6\u001b[0m \u001b[0;32mimport\u001b[0m \u001b[0mgetPower\u001b[0m\u001b[0;34m\u001b[0m\u001b[0m\n\u001b[1;32m      7\u001b[0m \u001b[0;32mimport\u001b[0m \u001b[0minterferometer\u001b[0m\u001b[0;34m\u001b[0m\u001b[0m\n",
      "\u001b[0;32m/Users/aaronew/Documents/science/data/dishpapers/DishSimulations/code/cosmology.py\u001b[0m in \u001b[0;36m<module>\u001b[0;34m()\u001b[0m\n\u001b[1;32m     14\u001b[0m \u001b[0mjy\u001b[0m\u001b[0;34m=\u001b[0m\u001b[0;36m1e-26\u001b[0m\u001b[0;34m\u001b[0m\u001b[0m\n\u001b[1;32m     15\u001b[0m \u001b[0mmH\u001b[0m\u001b[0;34m=\u001b[0m\u001b[0;36m1.6726231e-24\u001b[0m\u001b[0;34m\u001b[0m\u001b[0m\n\u001b[0;32m---> 16\u001b[0;31m \u001b[0mpl13\u001b[0m\u001b[0;34m.\u001b[0m\u001b[0mOb0\u001b[0m\u001b[0;34m=\u001b[0m\u001b[0;36m0.022068\u001b[0m\u001b[0;34m/\u001b[0m\u001b[0;34m(\u001b[0m\u001b[0mpl13\u001b[0m\u001b[0;34m.\u001b[0m\u001b[0mH0\u001b[0m\u001b[0;34m.\u001b[0m\u001b[0mvalue\u001b[0m\u001b[0;34m/\u001b[0m\u001b[0;36m1e2\u001b[0m\u001b[0;34m)\u001b[0m\u001b[0;34m**\u001b[0m\u001b[0;36m2.\u001b[0m\u001b[0;34m\u001b[0m\u001b[0m\n\u001b[0m\u001b[1;32m     17\u001b[0m \u001b[0;34m\u001b[0m\u001b[0m\n\u001b[1;32m     18\u001b[0m \u001b[0;34m\u001b[0m\u001b[0m\n",
      "\u001b[0;31mAttributeError\u001b[0m: can't set attribute"
     ]
    }
   ],
   "source": [
    "import numpy as np\n",
    "import matplotlib.pyplot as plt\n",
    "from scipy import signal as signal\n",
    "from matplotlib import gridspec\n",
    "import cosmology \n",
    "import getPower\n",
    "import interferometer\n",
    "littleh=0.68\n",
    "import aipy \n",
    "import numpy.fft as fft"
   ]
  },
  {
   "cell_type": "code",
   "execution_count": null,
   "metadata": {
    "collapsed": false
   },
   "outputs": [],
   "source": [
    "print cosmology"
   ]
  },
  {
   "cell_type": "code",
   "execution_count": null,
   "metadata": {
    "collapsed": false
   },
   "outputs": [],
   "source": [
    "uvw=np.load(workdir+'uvw_0.npy')\n",
    "freqs=np.load(workdir+'freqs.npy')\n",
    "delays=np.load(workdir+'delays.npy')\n",
    "model_ion=np.load(workdir+'cont_0_model.npy')\n",
    "model=np.load(workdir+'true_0_model.npy')\n",
    "beamP=np.load(workdir+'beamPs.npy')\n",
    "chanN=np.load(workdir+'bandnums.npy')\n",
    "#srcs=np.load(workdir+'srcs_0_2014_10_24.npy')\n",
    "print uvw.shape\n",
    "print model.shape\n",
    "print model[0,1]\n",
    "nf=len(freqs)\n",
    "df=freqs[1]-freqs[0]\n",
    "fc=freqs[nf/2]\n",
    "z=cosmology.f2z(fc)\n",
    "model_ion_list=[]\n",
    "model_list=[]\n",
    "model_resid_list=[]\n",
    "freq_list=[]\n",
    "nf_list=[]\n",
    "fc_list=[]\n",
    "band_list=[]\n",
    "beam_list0=[]\n",
    "beam_list1=[]\n",
    "z_list=[]\n",
    "delay_list=[]\n",
    "base=0\n",
    "print model_ion.shape\n",
    "for mm in range(len(chanN)):\n",
    "    nf_list.append(chanN[mm])\n",
    "    freq_list.append(freqs[base:(base+nf_list[mm])])\n",
    "    fc_list.append(freq_list[mm][nf_list[mm]/2])\n",
    "    model_ion_list.append(model_ion[base:(base+chanN[mm]),:])\n",
    "    model_list.append(model[base:base+chanN[mm],:])\n",
    "    model_resid_list.append(model_ion_list[mm]-model_list[mm])\n",
    "    band_list.append(freq_list[mm][-1]-freq_list[mm][0])\n",
    "    beam_list0.append(beamP[base:(base+chanN[mm]),0])\n",
    "    beam_list1.append(beamP[base:(base+chanN[mm]),1])\n",
    "    z_list.append(cosmology.f2z(fc_list[mm]))\n",
    "    delay_list.append(1./(df*nf_list[mm])*np.arange(-nf_list[mm]/2,nf_list[mm]/2))\n",
    "    base+=nf_list[mm]\n",
    "    \n",
    "    "
   ]
  },
  {
   "cell_type": "code",
   "execution_count": null,
   "metadata": {
    "collapsed": false
   },
   "outputs": [],
   "source": [
    "plt.plot(freqs/1e6,model_ion_list[0][:,5]*signal.blackmanharris(model_ion_list[0].shape[0]))\n",
    "plt.plot(freqs/1e6,model_list[0][:,5]*signal.blackmanharris(model_ion_list[0].shape[0]))\n",
    "plt.xlabel('f (MHz)')\n",
    "plt.ylabel('Re(Vis) (Jy)')"
   ]
  },
  {
   "cell_type": "code",
   "execution_count": null,
   "metadata": {
    "collapsed": false
   },
   "outputs": [],
   "source": [
    "window=signal.blackmanharris(model_ion_list[0].shape[0])\n",
    "window=window/np.sqrt(np.mean(window**2.))\n",
    "plt.plot(df*np.abs(fft.fftshift(fft.fft(fft.fftshift(model_list[0][:,5]*window)))))"
   ]
  },
  {
   "cell_type": "code",
   "execution_count": null,
   "metadata": {
    "collapsed": false
   },
   "outputs": [],
   "source": [
    "print beamP.shape"
   ]
  },
  {
   "cell_type": "code",
   "execution_count": null,
   "metadata": {
    "collapsed": false
   },
   "outputs": [],
   "source": [
    "#plot single baseline\n",
    "delayList=fft.fftshift(fft.fftfreq(len(freqs),freqs[1]-freqs[0]))\n",
    "kList=cosmology.eta2kpara(delayList,cosmology.f2z(150e6))\n",
    "\n",
    "#get the power spectrum\n",
    "psVis=getPower.ps21(np.abs(kList),cosmology.f2z(150e6),flux=True,beampp=beamP[500,1])*(window.sum()*df)\n",
    "#print psVis\n",
    "#generat signal\n",
    "signal21=(np.random.randn(len(kList))+np.random.randn(len(kList))*1j)*np.sqrt(psVis)\n",
    "ps21=(littleh**3.*(cosmology.X(f0)**2.*cosmology.Y(f0)*np.abs(cosmology.i2t(f0,signal21))**2.))/(window.sum()*df*beamP[500,1])\n",
    "window=signal.blackmanharris(len(delayList))\n",
    "window=window\n",
    "fG=fft.fftshift(fft.fft(fft.fftshift(window*model_list[0][:,5])))*df\n",
    "f0=freqs[len(freqs)/2]\n",
    "z0=cosmology.f2z(f0)\n",
    "fG=fG/np.sqrt(beam_list1[0]*window.sum()*df)\n",
    "fG=littleh**3.*(cosmology.X(f0)**2.*cosmology.Y(f0)*np.abs(cosmology.i2t(f0,fG))**2.)*1e6\n",
    "plt.plot(kList/littleh,np.abs(fG),label='Foregrounds')\n",
    "plt.plot(kList/littleh,littleh**3.*getPower.ps21(np.abs(kList),z0*np.ones(len(delayList))),label='Signal')\n",
    "plt.plot(kList/littleh,ps21)\n",
    "plt.yscale('log')\n",
    "plt.xlim(-.3,.3)\n",
    "plt.ylabel(\"P(k) (Mpc/h)$^3$mK$^2$\")\n",
    "plt.xlabel('$k_\\parallel$ ($h$/Mpc)')\n",
    "plt.gcf().set_size_inches(7.5,5)"
   ]
  },
  {
   "cell_type": "code",
   "execution_count": null,
   "metadata": {
    "collapsed": false
   },
   "outputs": [],
   "source": [
    "#data,window,kernel,area are all given in zero in center format real space.\n",
    "def tsys(f):\n",
    "    return 100.+60.*(c/f)**2.55\n",
    "def gen_noise(fAxis,tau,ae):\n",
    "    noiseAmp=np.sqrt(2.)*1.23e3*tsys(fAxis)/(ae*np.sqrt(tau*(fAxis[1]-fAxis[0])))\n",
    "    return noiseAmp*(np.random.randn(len(fAxis))+1j*np.random.randn(len(fAxis)))\n",
    "def delay_clean(data,window,kernel,area,tol=1e-3,gain=.1,maxiter=1000):\n",
    "    dDelay=fft.ifft(data*window)\n",
    "    dKernel=fft.ifft(kernel)\n",
    "    area=fft.fftshift(area)\n",
    "    cc,info=aipy.deconv.clean(dDelay,dKernel,area=area,tol=tol,gain=gain,maxiter=maxiter,stop_if_div=False,verbose=False)\n",
    "    return fft.fft(info['res'])\n",
    "\n",
    "def delay_clean_gentle(data,window,kernel,area,nsigma=3.):\n",
    "    dDelay=fft.ifft(data*window)\n",
    "    dKernel=fft.ifft(kernel)\n",
    "    area=fft.fftshift(area).astype(int)\n",
    "    noiseArea=(1.-area).astype(int)\n",
    "    noiseSTD=np.sqrt(np.mean(np.abs(dDelay[noiseArea==1])**2.))\n",
    "    signalSTD=np.sqrt(np.mean(np.abs(dDelay[area==1]))**2.)\n",
    "    good=signalSTD>=nsigma*noiseSTD\n",
    "    iters=0\n",
    "    #print good\n",
    "    #print noiseSTD\n",
    "    #print signalSTD\n",
    "    while(good):\n",
    "        iters+=1\n",
    "        cc,info=aipy.deconv.clean(dDelay,dKernel,area=area,tol=1e-3,gain=.1,maxiter=int(1e3),stop_if_div=False,verbose=False)\n",
    "        signalSTD=np.sqrt(np.mean(np.abs(info['res'][area==1])**2.))\n",
    "        noiseSTD=np.sqrt(np.mean(np.abs(info['res'][noiseArea==1])**2.))\n",
    "        #plt.plot(np.abs(fft.fftshift(info['res'])))\n",
    "        #plt.yscale('log')\n",
    "        #plt.show()\n",
    "        #print 'comparison'\n",
    "        #print noiseSTD\n",
    "        #print signalSTD\n",
    "        good=signalSTD>=nsigma*noiseSTD\n",
    "        if(good):\n",
    "            dDelay=info['res']\n",
    "\n",
    "    #print iters \n",
    "    return fft.fft(dDelay)\n",
    "\n"
   ]
  },
  {
   "cell_type": "code",
   "execution_count": null,
   "metadata": {
    "collapsed": false,
    "scrolled": false
   },
   "outputs": [],
   "source": [
    "#clean residuals\n",
    "model_ion_resid=[]\n",
    "model_resid=[]\n",
    "model_resid_noisy=[]\n",
    "window_ion=signal.blackmanharris(model_ion_list[0].shape[0])\n",
    "window=signal.blackmanharris(model_list[0].shape[0])\n",
    "window_ion=window_ion/np.sqrt(np.mean(window_ion**2.))\n",
    "winow=window/np.sqrt(np.mean(window**2.))\n",
    "kernel=np.ones(len(model_list[0]))\n",
    "noise=gen_noise(freqs,2.*60.,75.)\n",
    "for mm in range(model_ion_list[0].shape[1]):\n",
    "    tuvw=uvw[mm,:]\n",
    "    maxdelay=np.sqrt(np.sum(tuvw**2.))/c+cosmology.kpara2eta(0.1,z)\n",
    "    area=np.zeros(len(model_list[0]))\n",
    "    area[np.abs(delays)<maxdelay]=1.\n",
    "    temp=delay_clean_gentle(model_list[0][:,mm]+noise,window,kernel,area)\n",
    "    model_resid_noisy.append(temp)\n",
    "    model_resid.append((temp-noise*window)/window)\n",
    "    model_ion_resid.append((delay_clean_gentle(model_ion_list[0][:,mm]+noise,window_ion,kernel,area)-noise*window_ion)/window_ion)\n",
    "model_ion_resid=np.array(model_ion_resid).T\n",
    "model_resid=np.array(model_resid).T\n",
    "model_resid_noisy=np.array(model_resid_noisy).T"
   ]
  },
  {
   "cell_type": "code",
   "execution_count": null,
   "metadata": {
    "collapsed": false,
    "scrolled": false
   },
   "outputs": [],
   "source": [
    "l1=plt.plot(delays*1e9,df*np.abs(fft.fftshift(fft.fft(model_list[0][:,5]*window))),lw=2,label='Foreground Model')[0]\n",
    "l2=plt.plot(delays*1e9,df*np.abs(fft.fftshift(fft.fft(model_ion_list[0][:,5]*window_ion))),lw=2,label='Model with Reflections')[0]\n",
    "\n",
    "\n",
    "\n",
    "l3=plt.plot(delays*1e9,df*np.abs(fft.fftshift(fft.fft(model_resid[:,5]*window))),lw=2,label='Foreground Residuals')[0]\n",
    "l4=plt.plot(delays*1e9,df*np.abs(fft.fftshift(fft.fft(model_ion_resid[:,5]*window_ion))),lw=2,label='Residuals with Reflections')[0]\n",
    "\n",
    "l5=plt.plot(delays*1e9,df*np.abs(fft.fftshift(fft.fft(model_resid_noisy[:,5]*window))),lw=2,label='Foreground Residuals with Noise')[0]\n",
    "#plt.plot(delays*1e9,df*np.abs(fft.fftshift(fft.fft(noise*window)),'noise'))\n",
    "l6=plt.axhline(7e6,color='k',label='noise level (2 minutes)')[0]\n",
    "plt.legend(loc='lower center',fontsize=12)\n",
    "plt.ylim(1e2,1e10)\n",
    "plt.xlim(-2000,2000)\n",
    "plt.gcf().set_size_inches(10,10)\n",
    "plt.grid()\n",
    "plt.yscale('log',fontsize=20)\n",
    "plt.xlabel('delay (ns)',fontsize=20)\n",
    "plt.ylabel('Abs($\\\\widetilde{V}$) (Jy-Hz)',fontsize=20)\n",
    "ax1=plt.gca()\n",
    "ax1.tick_params('x',labelsize=16)\n",
    "ax1.tick_params('y',labelsize=16)\n",
    "ax2=ax1.twiny()\n",
    "ticks=ax1.get_xticks()\n",
    "labels=[]\n",
    "for tick in ticks:\n",
    "    labels.append('%.2f'%(cosmology.eta2kpara(tick/1e9,cosmology.f2z(150e6))))\n",
    "ax2.set_xticks(ticks)\n",
    "ax2.set_xticklabels(labels)\n",
    "ax2.tick_params('x',labelsize=16)\n",
    "ax2.tick_params('y',labelsize=16)\n",
    "plt.savefig('../paper/figures/cleaning_noise.pdf')"
   ]
  },
  {
   "cell_type": "code",
   "execution_count": null,
   "metadata": {
    "collapsed": false
   },
   "outputs": [],
   "source": [
    "#load HERA Array and get noise for a 32 minute integration\n",
    "antpos=np.loadtxt('line40_hybrid_spaced.txt')\n",
    "hera=interferometer.getMRO(antpos,freqs)\n",
    "hera.phasezenith()\n",
    "hera.pointzenith()\n",
    "noise_list=[]\n",
    "for mm in range(len(fc_list)):\n",
    "    noise=hera.delayNoise(250.,100*32.*60.,fc_list[mm])\n",
    "    noise,_=np.meshgrid(noise,range(nf_list[mm]))\n",
    "    noise_list.append(noise)"
   ]
  },
  {
   "cell_type": "code",
   "execution_count": null,
   "metadata": {
    "collapsed": false
   },
   "outputs": [],
   "source": [
    "\n",
    "def plotps2d_list(xlist,ylist,datalist,title,xlabel,ylabel,vmin=2,vmax=19):\n",
    "    if(len(datalist)>1):\n",
    "        fig,axarr=plt.subplots(2,len(datalist)/2,sharex=True,sharey=True)\n",
    "    else:\n",
    "        fig,axarr=plt.subplots(2,1,sharex=True,sharey=True)\n",
    "\n",
    "    for mm in range(2):\n",
    "        for nn in range(len(datalist)):\n",
    "            im=axarr[mm][nn].imshow(np.log10(datalist[mm]),interpolation='nearest',extent=[xlist[mm].min(),xlist[mm].max(),ylist[mm].min(),ylist[mm].max()],vmin=vmin,vmax=vmax)\n",
    "            axarr[mm][nn].set_title(title)\n",
    "            axarr[mm][nn].set_xlabel(xlabel)\n",
    "            axarr[mm][nn].set_ylabel(ylabel)\n",
    "            axarr[mm][nn].set_aspect('auto','datalim')\n",
    "    cax=fig.add_axes([.95,.1,.05,.8])\n",
    "    fig.colorbar(im,cax=cax)\n",
    "    fig.set_size_inches((len(datalist)/2*6,2*6))\n",
    "def plotps2d_list_ascale(xlist,ylist,datalist,title,xlabel,ylabel):\n",
    "    fig,axarr=plt.subplots(2,len(datalist)/2,sharex=True,sharey=True)\n",
    "    for mm in range(2):\n",
    "        for nn in range(len(datalist)/2):\n",
    "            im=axarr[mm][nn].imshow(np.log10(datalist[mm]),interpolation='nearest',extent=[xlist[mm].min(),xlist[mm].max(),ylist[mm].min(),ylist[mm].max()])\n",
    "            axarr[mm][nn].set_title(title)\n",
    "            axarr[mm][nn].set_xlabel(xlabel)\n",
    "            axarr[mm][nn].set_ylabel(ylabel)\n",
    "            axarr[mm][nn].set_aspect('auto','datalim')\n",
    "    cax=fig.add_axes([.95,.1,.05,.8])\n",
    "    fig.colorbar(im,cax=cax)\n",
    "    fig.set_size_inches((len(datalist)/2*6,2*6))"
   ]
  },
  {
   "cell_type": "code",
   "execution_count": null,
   "metadata": {
    "collapsed": false
   },
   "outputs": [],
   "source": [
    "def plotlist(datalist,bnum=10):\n",
    "    fig,axarr=plt.subplots(1,len(datalist),sharex=True,sharey=True)\n",
    "    for mm in range(len(datalist)):\n",
    "        axarr[mm].plot((datalist[mm][:,bnum]))\n",
    "        axarr[mm].set_aspect('auto','datalim')\n",
    "    fig.set_size_inches((6*len(datalist),6))\n",
    "def plotlist2(datalist1,datalist2,bnum=10):\n",
    "    fig,axarr=plt.subplots(1,len(datalist1),sharex=True,sharey=True)\n",
    "    for mm in range(len(datalist1)):\n",
    "        axarr[mm].plot((datalist1[mm][:,bnum]))\n",
    "        axarr[mm].plot((datalist2[mm][:,bnum]))\n",
    "        axarr[mm].set_aspect('auto','datalim')\n",
    "    fig.set_size_inches((6*len(datalist1),6))"
   ]
  },
  {
   "cell_type": "markdown",
   "metadata": {},
   "source": [
    "Create binned uvw data with from visibility matrix output by simulation. vis is an nfreq x nvis x 3 complex numpy array. uvw is an nfreq x nvis  numpy array"
   ]
  },
  {
   "cell_type": "code",
   "execution_count": null,
   "metadata": {
    "collapsed": false
   },
   "outputs": [],
   "source": [
    "def delayTransform(vis,df):\n",
    "    window=signal.blackmanharris(vis.shape[0])\n",
    "    #window=window/np.sqrt(np.mean(window**2.))\n",
    "    windowx,windowy=np.meshgrid(range(vis.shape[1]),window)\n",
    "    return window,np.fft.fftshift(np.fft.fft(np.fft.fftshift(vis*windowy,axes=0),axis=0),axes=0)*df\n",
    "def delayTransformList(vislist,df):\n",
    "    output=[]\n",
    "    windows=[]\n",
    "    for mm in range(len(vislist)):\n",
    "        dT=delayTransform(vislist[mm],df)\n",
    "        windows.append(dT[0])\n",
    "        output.append(dT[1])\n",
    "    return output,windows\n",
    "def delay2PS(vis,beamP,band,f0):\n",
    "    #convert to temperature power spectrum\n",
    "    output=np.zeros_like(vis)\n",
    "    for mm in range(vis.shape[1]):\n",
    "        output[:,mm]=vis[:,mm]/np.sqrt(beamP*band)\n",
    "    output=littleh**3.*(cosmology.X(f0)**2.*cosmology.Y(f0)*np.abs(cosmology.i2t(f0,output))**2.)*1e6\n",
    "    return output\n",
    "def delay2PSList(vislist,beamlist,bandlist,flist):\n",
    "    output=[]\n",
    "    for mm in range(len(vislist)):\n",
    "        output.append(delay2PS(vislist[mm],beamlist[mm],bandlist[mm],flist[mm]))\n",
    "    return output"
   ]
  },
  {
   "cell_type": "code",
   "execution_count": null,
   "metadata": {
    "collapsed": false
   },
   "outputs": [],
   "source": [
    "select=np.logical_and(freqs>140e6,freqs<=160e6)\n",
    "freqs_select=freqs[select]\n",
    "nfs=len(freqs_select)\n",
    "print model_resid.shape\n",
    "band_select=freqs_select.max()-freqs_select.min()\n",
    "fcs=freqs_select[len(freqs_select)/2]\n",
    "\n",
    "dtrans_list,_=delayTransformList([model_list[0][select,:]],df)\n",
    "dtrans_ion_list,_=delayTransformList([model_ion_list[0][select,:]],df)\n",
    "dtrans_resid_list,_=delayTransformList([model_resid[select,:]],df)\n",
    "dtrans_ion_resid_list,windows=delayTransformList([model_ion_resid[select,:]],df)\n",
    "\n",
    "\n",
    "ps_list=delay2PSList(dtrans_list,[beam_list1[0][select]],[band_select*windows[0].mean()],[fcs])\n",
    "ps_ion_list=delay2PSList(dtrans_ion_list,[beam_list1[0][select]],[band_select*windows[0].mean()],[fcs])\n",
    "ps_resid_list=delay2PSList(dtrans_resid_list,[beam_list1[0][select]],[band_select*windows[0].mean()],[fcs])\n",
    "ps_ion_resid_list=delay2PSList(dtrans_ion_resid_list,[beam_list1[0][select]],[band_select*windows[0].mean()],[fcs])"
   ]
  },
  {
   "cell_type": "code",
   "execution_count": null,
   "metadata": {
    "collapsed": false,
    "scrolled": false
   },
   "outputs": [],
   "source": [
    "index=5\n",
    "z0=cosmology.f2z(fcs)\n",
    "tuvw=uvw[index,:]\n",
    "uvw_l=np.sqrt(np.sum(tuvw**2.))/c*freqs_select[nfs/2]\n",
    "print uvw_l\n",
    "delayList=np.arange(-nfs/2,nfs/2)/(nfs*df)\n",
    "#print cosmology.eta2kpara(np.abs(delayList),z0)\n",
    "#print ps_resid_list[0].shape\n",
    "kList=cosmology.eta2kpara((delayList),z0)\n",
    "plt.plot(kList/littleh,ps_list[0][:,index],label='flat band',lw=4)\n",
    "plt.plot(kList/littleh,ps_ion_list[0][:,index],label='band\\n with response function',lw=4)\n",
    "plt.plot(kList/littleh,ps_resid_list[0][:,index],label='residual',ls='--',lw=4)\n",
    "plt.plot(kList/littleh,ps_ion_resid_list[0][:,index],label='residual\\n with reflection',ls='--',lw=4)\n",
    "\n",
    "\n",
    "\n",
    "hz=cosmology.eta2kpara(uvw_l/freqs_select[nfs/2],z0)/littleh\n",
    "#plt.axvline(-hz+.1,color='k',ls='--')\n",
    "#plt.axvline(hz+.1,color='k',ls='--')\n",
    "#print getPower.ps21(cosmology.eta2kpara(np.abs(delayList),z0),z0*np.ones(len(delayList)))\n",
    "plt.plot(kList/littleh,littleh**3.*getPower.ps21(cosmology.eta2kpara(np.abs(delayList),z0),z0*np.ones(len(delayList))),color='k',lw=4,label='signal')\n",
    "plt.yscale('log')\n",
    "plt.xlabel('$k_\\parallel$ ($h$Mpc$^{-1}$)',fontsize=30)\n",
    "plt.ylabel('P(k) ($h^{-1}$Mpc)$^{3}$ mK$^2$',fontsize=30)\n",
    "plt.legend(loc='upper right',fontsize=16)\n",
    "plt.gcf().set_size_inches(10,10)\n",
    "plt.title('z=%.1f,u=%.1f$\\\\lambda$'%(cosmology.f2z(fcs),uvw_l),fontsize=30,y=1.1)\n",
    "plt.gca().tick_params('x',labelsize=30)\n",
    "plt.gca().tick_params('y',labelsize=30)\n",
    "#plt.grid(True)\n",
    "#plt.subgrid(True)\n",
    "#plt.axvline(.1,color='k',ls=':',lw=.5)\n",
    "#plt.axvline(.2,color='k',ls=':',lw=.5)\n",
    "#plt.axvline(.3,color='k',ls=':',lw=.5)\n",
    "\n",
    "plt.grid(b=True,which='major')\n",
    "plt.grid(b=True,which='minor')\n",
    "plt.xlim(-1.,1.)\n",
    "plt.ylim(1e-2,1e14)\n",
    "\n",
    "\n",
    "tickset=np.arange(-10,11)*.1\n",
    "plt.gca().set_xticks(tickset)\n",
    "labels=[]\n",
    "for tick in tickset:\n",
    "    if(int(tick*10)%4==0):\n",
    "        labels.append(str(tick))\n",
    "    else:\n",
    "        labels.append('')\n",
    "print labels\n",
    "print tickset\n",
    "#plt.xscale('log')\n",
    "plt.gca().set_xticklabels(labels)\n",
    "plt.gcf().set_size_inches(12,9)\n",
    "ax1=plt.gca()\n",
    "ax2=ax1.twiny()\n",
    "ticks=ax1.get_xticks()\n",
    "labels=[]\n",
    "for tick in ticks:\n",
    "    if(int(tick*10)%4==0):\n",
    "        labels.append('%d'%(1e9*cosmology.kpara2eta(littleh*tick,cosmology.f2z(150e6))))\n",
    "    else:\n",
    "        labels.append('')\n",
    "ax2.set_xticks(ticks)\n",
    "ax2.set_xticklabels(labels)\n",
    "ax2.tick_params('x',labelsize=30)\n",
    "ax2.tick_params('y',labelsize=30)\n",
    "plt.savefig('../paper/figures/resid_5sigma_compare.pdf',bbox_inches='tight')"
   ]
  },
  {
   "cell_type": "code",
   "execution_count": null,
   "metadata": {
    "collapsed": false
   },
   "outputs": [],
   "source": [
    "print cosmology.kpara2eta(0.15*littleh,8.5)*1e9\n",
    "print cosmology.kpara2eta(0.25*littleh,8.5)*1e9"
   ]
  },
  {
   "cell_type": "code",
   "execution_count": null,
   "metadata": {
    "collapsed": false
   },
   "outputs": [],
   "source": [
    "index=5\n",
    "z0=cosmology.f2z(fc_list[0])\n",
    "tuvw=uvw[index,:]\n",
    "uvw_l=np.sqrt(np.sum(tuvw**2.))/c*freqs[nf/2]\n",
    "print uvw_l\n",
    "delayList=np.arange(-nf/2,nf/2)/(nf*df)\n",
    "#print cosmology.eta2kpara(np.abs(delayList),z0)\n",
    "#print ps_resid_list[0].shape\n",
    "kList=cosmology.eta2kpara((delayList),z0)\n",
    "plt.plot(kList,ps_list[0][:,index],label='flat band')\n",
    "plt.plot(kList,ps_ion_list[0][:,index],label='band with response function')\n",
    "plt.plot(kList,ps_resid_list[0][:,index],label='residual',ls='--')\n",
    "\n",
    "\n",
    "hz=cosmology.eta2kpara(uvw_l/freqs[nf/2],z0)/littleh\n",
    "#plt.axvline(-hz+.1,color='k',ls='--')\n",
    "plt.axvline(hz+.1,color='k',ls='--')\n",
    "#print getPower.ps21(cosmology.eta2kpara(np.abs(delayList),z0),z0*np.ones(len(delayList)))\n",
    "plt.plot(kList,littleh**3.*getPower.ps21(cosmology.eta2kpara(np.abs(delayList),z0),z0*np.ones(len(delayList))),label='signal')\n",
    "plt.yscale('log')\n",
    "plt.xlabel('$k_\\parallel$ ($h$Mpc$^{-1}$)',fontsize=30)\n",
    "plt.ylabel('P(k) ($h^{-1}$Mpc)$^{3}$ mK$^2$',fontsize=30)\n",
    "plt.legend(loc='best')\n",
    "plt.gcf().set_size_inches(10,10)\n",
    "plt.title('z=%.1f,u=%.1f$\\\\lambda$'%(cosmology.f2z(fc),uvw_l),fontsize=30)\n",
    "plt.gca().tick_params('x',labelsize=20)\n",
    "plt.gca().tick_params('y',labelsize=20)\n",
    "plt.xlim(3e-2,2.5)\n",
    "plt.xscale('log')\n",
    "\n",
    "plt.savefig('../../spec_memo/figures/delay_response_compare_.pdf',bbox_inches='tight')"
   ]
  },
  {
   "cell_type": "code",
   "execution_count": null,
   "metadata": {
    "collapsed": false
   },
   "outputs": [],
   "source": [
    "def binU(uvw,delays,data,nbins):\n",
    "        u=np.sqrt(np.sum(uvw[:,:]**2.,axis=1))\n",
    "        minu=u.min()\n",
    "        maxu=u.max()\n",
    "        du=(maxu-minu)/(nbins)\n",
    "        ubins=np.zeros((data.shape[0]/2,nbins))\n",
    "        etaaxis=np.zeros(data.shape[0]/2)\n",
    "        counts=np.zeros(nbins)\n",
    "        for mm in range(data.shape[0]/2):\n",
    "            etaaxis[mm]=(np.abs(delays[data.shape[0]/2+mm])+np.abs(delays[data.shape[0]/2-mm]))/2\n",
    "        for uvind in range(len(u)):\n",
    "            ubin=int(np.round((u[uvind]-minu)/du))\n",
    "            if(ubin>=0 and ubin<nbins):\n",
    "                for mm in range(data.shape[0]/2):\n",
    "                    ubins[mm,ubin]+=(data[mm+data.shape[0]/2,uvind]+data[data.shape[0]/2-mm,uvind])/2\n",
    "                counts[ubin]+=1\n",
    "        for m in range(nbins):\n",
    "            ubins[:,m]=ubins[:,m]/counts[m]\n",
    "        ubins[np.isnan(ubins)]=0.\n",
    "        return np.linspace(minu,maxu,nbins),etaaxis,ubins\n",
    "def binUList(uvw_list,delays_list,data_list,nbins):\n",
    "    output=[]\n",
    "    for mm in range(len(uvw_list)):\n",
    "        output.append(binU(uvw_list[mm],delays_list[mm],data_list[mm],nbins))\n",
    "    return output\n",
    "def binU1D(uvw,delays,signal,weights,fc,flags,mink=1e-2,maxk=1.2,logscale=True,nbins=20):\n",
    "    z=cosmology.f2z(fc)\n",
    "    u=np.sqrt(np.sum(uvw[:,:]**2.,axis=1))\n",
    "    kperp=cosmology.u2kperp(u,z)/littleh\n",
    "    kpara=cosmology.eta2kpara(delays,z)/littleh\n",
    "    kperpg,kparag=np.meshgrid(kperp,kpara)#kperp/kparallel of all visibilities\n",
    "    kg=np.sqrt(kperpg**2.+kparag**2.)\n",
    "    if(logscale):\n",
    "        kg=np.log10(kg)\n",
    "        mink=np.log10(mink)\n",
    "        maxk=np.log10(maxk)\n",
    "    kg=kg[flags].flatten()\n",
    "    signal=signal[flags].flatten()\n",
    "    weights=weights[flags].flatten()\n",
    "    ps=np.zeros(nbins)\n",
    "    cts=np.zeros(nbins)\n",
    "    ks=np.zeros(nbins)\n",
    "    dk=(maxk-mink)/nbins\n",
    "    for mm in range(len(kg)):\n",
    "        kbin=int((kg[mm]-mink)/dk)\n",
    "        if(logscale):\n",
    "            k=kg[mm]**2.\n",
    "        else:\n",
    "            k=kg[mm]\n",
    "        if(kbin>=0 and kbin<nbins):\n",
    "            ps[kbin]+=signal[mm]*weights[mm]\n",
    "            cts[kbin]+=weights[mm]\n",
    "            ks[kbin]+=k\n",
    "    return cts,ks/cts,ps/cts\n",
    "\n",
    "#bin the noise assuming inverse square weighting\n",
    "def binNoise1D(uvw,delays,noise,fc,flags,mink=1e-2,maxk=1.,logscale=True,nbins=20):\n",
    "    z=cosmology.f2z(fc)\n",
    "    u=np.sqrt(np.sum(uvw[:,:]**2.,axis=1))\n",
    "    kperp=cosmology.u2kperp(u,z)/littleh\n",
    "    kpara=cosmology.eta2kpara(delays,z)/littleh\n",
    "    kperpg,kparag=np.meshgrid(kperp,kpara)#kperp/kparallel of all visibilities\n",
    "    kg=np.sqrt(kperpg**2.+kparag**2.)\n",
    "    if(logscale):\n",
    "        kg=np.log10(kg)\n",
    "        mink=np.log10(mink)\n",
    "        maxk=np.log10(maxk)\n",
    "    #now apply mask\n",
    "    kg=kg[flags].flatten()\n",
    "    noise=noise[flags].flatten()\n",
    "    ps=np.zeros(nbins)\n",
    "    cts=np.zeros(nbins)\n",
    "    ks=np.zeros(nbins)\n",
    "    dk=(maxk-mink)/nbins\n",
    "    print len(noise)\n",
    "    for mm in range(len(noise)):\n",
    "        kbin=int((kg[mm]-mink)/dk)\n",
    "        if(logscale):\n",
    "            k=10.**kg[mm]\n",
    "        else:\n",
    "            k=kg[mm]\n",
    "        if(kbin>=0 and kbin<nbins):\n",
    "            ps[kbin]+=1/noise[mm]**2.\n",
    "            cts[kbin]+=1\n",
    "            ks[kbin]+=k\n",
    "    ps=np.sqrt(1./ps)\n",
    "    ps[np.logical_or(np.isnan(ps),np.isinf(ps))]=9e99\n",
    "    return cts,ks/cts,ps\n",
    "    #not interate through every cell "
   ]
  },
  {
   "cell_type": "code",
   "execution_count": null,
   "metadata": {
    "collapsed": false
   },
   "outputs": [],
   "source": [
    "def wedgeflag(uvw,eta,fc,offset,bfwhm):\n",
    "    offset=cosmology.kpara2eta(offset/littleh,cosmology.f2z(fc))\n",
    "    u=np.sqrt(np.sum(uvw[:,:-1]**2.,axis=1))\n",
    "    ug,etag=np.meshgrid(u,eta)\n",
    "    #plt.imshow(etag)\n",
    "    #plt.colorbar()\n",
    "    #plt.show()\n",
    "    #plt.imshow(ug)\n",
    "    #plt.colorbar()\n",
    "    #plt.show()\n",
    "    \n",
    "    return np.abs(ug/c)<=(np.abs(etag)-offset)/np.sin(np.radians(bfwhm/2.))\n",
    "flags=wedgeflag(uvw*fc_list[mm]/c,delay_list[mm],fc_list[mm],0.2,180.)\n"
   ]
  },
  {
   "cell_type": "code",
   "execution_count": null,
   "metadata": {
    "collapsed": false
   },
   "outputs": [],
   "source": [
    "cuvw_list=[]\n",
    "for mm in range(len(chanN)):\n",
    "    cuvw_list.append(uvw*freq_list[mm][nf_list[mm]/2]/c)\n",
    "ubins_list=binUList(cuvw_list,delay_list,ps_list,15)\n",
    "ubins_ion_list=binUList(cuvw_list,delay_list,ps_ion_list,15)\n",
    "ubins_resid_list=binUList(cuvw_list,delay_list,ps_resid_list,15)\n",
    "kperp_list=[]\n",
    "kpara_list=[]\n",
    "psbin_list=[]\n",
    "psbin_ion_list=[]\n",
    "psbin_resid_list=[]\n",
    "for mm in range(len(chanN)):\n",
    "    psbin_list.append(ubins_list[mm][2])\n",
    "    psbin_ion_list.append(ubins_ion_list[mm][2])\n",
    "    psbin_resid_list.append(ubins_resid_list[mm][2])\n",
    "    kpara_list.append(cosmology.eta2kpara(ubins_list[mm][1],z_list[mm])/littleh)\n",
    "    kperp_list.append(cosmology.u2kperp(ubins_list[mm][0],z_list[mm])/littleh)"
   ]
  },
  {
   "cell_type": "code",
   "execution_count": null,
   "metadata": {
    "collapsed": false
   },
   "outputs": [],
   "source": [
    "my_cm='afmhot'\n",
    "kperpg,kparag=np.meshgrid(kperp_list[0][1:],kpara_list[0][1:])\n",
    "gs=gridspec.GridSpec(7,3)\n",
    "axarr=[plt.subplot(gs[:-2,mm]) for mm in range(3)]\n",
    "axarr.append(plt.subplot(gs[-2:-1,:]))\n",
    "axarr[0].set_title('No Reflections')\n",
    "axarr[0].pcolor(kperpg,kparag,np.log10(psbin_list[0][1:,1:]),vmin=3.,vmax=16,cmap=my_cm)\n",
    "axarr[0].plot(kperp_list[0],cosmology.wedge(cosmology.f2z(fc))*kperp_list[0]+.1,lw=3,color='w')\n",
    "axarr[0].plot(kperp_list[0],cosmology.wedge(cosmology.f2z(fc))*kperp_list[0]+.1,lw=2,color='k',ls='-')\n",
    "axarr[0].set_yscale('log')\n",
    "axarr[0].set_xscale('log')\n",
    "axarr[0].set_aspect('auto')\n",
    "#axarr[0].set_xlabel('$k_\\\\perp$ h/Mpc')\n",
    "#axarr[0].set_ylabel('$k_\\\\parallel$ h/Mpc')\n",
    "axarr[0].set_xlim(1e-2,2e-1)\n",
    "axarr[0].set_ylim(2e-2,3e0)\n",
    "\n",
    "axarr[1].set_title('with reed reflection')\n",
    "axarr[1].pcolor(kperpg,kparag,np.log10(psbin_ion_list[0][1:,1:]),vmin=3.,vmax=16,cmap=my_cm)\n",
    "axarr[1].plot(kperp_list[0],cosmology.wedge(cosmology.f2z(fc))*kperp_list[0]+.1,lw=3,color='w')\n",
    "axarr[1].plot(kperp_list[0],cosmology.wedge(cosmology.f2z(fc))*kperp_list[0]+.1,lw=2,color='k',ls='-')\n",
    "axarr[1].set_yscale('log')\n",
    "axarr[1].set_xscale('log')\n",
    "axarr[1].set_xlim(1e-2,2e-1)\n",
    "axarr[1].set_xlabel('$k_\\\\perp$ hMpc$^{-1}$',fontsize=14)\n",
    "#axarr[1].set_ylabel('$k_\\\\parallel$ h/Mpc')\n",
    "axarr[1].set_aspect('auto')\n",
    "axarr[1].set_ylim(2e-2,3e0)\n",
    "\n",
    "axarr[2].set_title('Residual')\n",
    "im=axarr[2].pcolor(kperpg,kparag,np.log10(psbin_resid_list[0][1:,1:]),vmin=3.,vmax=16.,cmap=my_cm)\n",
    "axarr[2].plot(kperp_list[0],cosmology.wedge(cosmology.f2z(fc))*kperp_list[0]+.1,lw=3,color='w')\n",
    "axarr[2].plot(kperp_list[0],cosmology.wedge(cosmology.f2z(fc))*kperp_list[0]+.1,lw=2,color='k',ls='-')\n",
    "axarr[2].set_yscale('log')\n",
    "axarr[2].set_xscale('log')\n",
    "axarr[2].set_xlim(1e-2,2e-1)\n",
    "axarr[2].set_aspect('auto')\n",
    "axarr[2].set_ylim(2e-2,3e0)\n",
    "#axarr[2].set_xlabel('$k_\\\\perp$ h/Mpc')\n",
    "axarr[0].set_ylabel('$k_\\\\parallel$ hMpc$^{-1}$',fontsize=14)\n",
    "axarr[2].axhline(cosmology.eta2kpara(2.*35./(3e8*.81),cosmology.f2z(fc))/littleh,color='w',lw=2)\n",
    "axarr[2].axhline(cosmology.eta2kpara(4.*35./(3e8*.81),cosmology.f2z(fc))/littleh,color='w',lw=2,ls='-')\n",
    "\n",
    "\n",
    "axarr[2].axhline(cosmology.eta2kpara(2.*35./(3e8*.81),cosmology.f2z(fc))/littleh,color='k',lw=1)\n",
    "axarr[2].axhline(cosmology.eta2kpara(4.*35./(3e8*.81),cosmology.f2z(fc))/littleh,color='k',lw=1,ls='--')\n",
    "\n",
    "\n",
    "\n",
    "fig=plt.gcf()\n",
    "#cbar_ax=fig.add_axes([0.1,0.05,.8,.05])\n",
    "cbar=fig.colorbar(im,cax=axarr[-1],orientation='horizontal')\n",
    "cbar.set_label('P(k) (h$^{-3}$Mpc$^{3}$)',fontsize=14)\n",
    "\n",
    "fig.set_size_inches([15,7])\n",
    "plt.tight_layout()\n",
    "plt.savefig('../../spec_memo/figures/hera_reflections_EoX_feed.png',bbox_inches='tight')\n",
    "'''\n",
    "flaggrid=np.ones(psbin_list[0].shape)\n",
    "flaggrid[flags]=1.\n",
    "flaggrid[np.invert(flags)]=0.\n",
    "plt.pcolor(kperpg,kparag,np.log10(psbin_list[0][1:,1:]))\n",
    "plt.yscale('log')\n",
    "plt.xscale('log')\n",
    "plt.gca().set_aspect('auto')\n",
    "'''"
   ]
  },
  {
   "cell_type": "code",
   "execution_count": null,
   "metadata": {
    "collapsed": false
   },
   "outputs": [],
   "source": [
    "def psgrid(kperpaxis,kparaaxis,z):\n",
    "    kperpg,kparag=np.meshgrid(kperpaxis,kparaaxis)\n",
    "    zs=z*np.ones(kperpg.shape)\n",
    "    return getPower.ps21_c(kperpg,kparag,zs)\n",
    "def psgrid_list(kperplist,kparalist,zlist):\n",
    "    output=[]\n",
    "    for mm in range(len(kperplist)):\n",
    "        output.append(psgrid(kperplist[mm],kparalist[mm],zlist[mm]))\n",
    "    return output"
   ]
  },
  {
   "cell_type": "code",
   "execution_count": null,
   "metadata": {
    "collapsed": false
   },
   "outputs": [],
   "source": [
    "noise1D=[]\n",
    "noise1Dr=[]\n",
    "resid1D=[]\n",
    "signal1D=[]\n",
    "klist1D=[]\n",
    "ctlist1D=[]\n",
    "foreground1D=[]\n",
    "resid1Dr=[]\n",
    "signal1Dr=[]\n",
    "usq1D=[]\n",
    "for mm in range(len(noise_list)):\n",
    "    flags=wedgeflag(uvw,delay_list[mm],fc_list[mm],0.05,180.)\n",
    "    #flags[:]=True\n",
    "   # flags=np.empty((delay_list[mm].shape[0],uvw.shape[0]),dtype=bool)\n",
    "    kperp=cosmology.u2kperp(np.sqrt(np.sum(uvw[:,:2]**2.,axis=1))*fc_list[mm]/c,z)\n",
    "    kpara=cosmology.eta2kpara(delay_list[mm],z)\n",
    "    ps_21=psgrid(kperp,kpara,z_list[mm])\n",
    "    #flags[:]=True\n",
    "    z=z_list[mm]\n",
    "    nresult=binNoise1D(uvw*fc_list[mm]/c,delay_list[mm],noise_list[mm],fc_list[mm],flags,maxk=2.2)\n",
    "    klist1D.append(nresult[1])\n",
    "    ctlist1D.append(nresult[0])\n",
    "    noise1D.append(nresult[2])\n",
    "    uvsq,_=np.meshgrid(np.sum(uvw[:,:2]**2.,axis=1)*fc_list[mm]/c,delay_list[mm])\n",
    "    usq1D.append(binU1D(uvw*fc_list[mm]/c,delay_list[mm],uvsq,np.ones(ps_resid_list[mm].shape),fc_list[mm],flags,maxk=2.2)[2])\n",
    "    resid1D.append(binU1D(uvw*fc_list[mm]/c,delay_list[mm],ps_resid_list[mm],np.ones(ps_resid_list[mm].shape),fc_list[mm],flags,maxk=2.2)[2])\n",
    "    signal1D.append(binU1D(uvw*fc_list[mm]/c,delay_list[mm],ps_21,np.ones(ps_resid_list[mm].shape),fc_list[mm],flags,maxk=2.2)[2])\n",
    "    foreground1D.append(binU1D(uvw*fc_list[mm]/c,delay_list[mm],ps_list[mm],np.ones(ps_resid_list[mm].shape),fc_list[mm],flags,maxk=2.2)[2])"
   ]
  },
  {
   "cell_type": "code",
   "execution_count": null,
   "metadata": {
    "collapsed": false
   },
   "outputs": [],
   "source": [
    "#fig,axarr=plt.subplots(2,len(datalist)/2,sharex=True,sharey=True)\n",
    "print klist1D[0]\n",
    "mm=0\n",
    "#klist1D[mm],usq1D[mm]*resid1D[mm][5]/usq1D[mm][5]*klist1D[mm]**3./(2.*np.pi**2.),\n",
    "#plt.plot(klist1D[mm],noise1D[mm]*klist1D[mm]**3./(2.*np.pi**2.)*1e6,':r',klist1D[mm],signal1D[mm]*klist1D[mm]**3./(2.*np.pi**2.),'-k',klist1D[mm],resid1D[mm]*klist1D[mm]**3./(2.*np.pi**2.),'-b',klist1D[mm],foreground1D[mm]*klist1D[mm]**3./(2.*np.pi**2.),':b')\n",
    "plt.plot(klist1D[mm],signal1D[mm]*klist1D[mm]**3./(2.*np.pi**2.),'-k',label='signal')\n",
    "plt.plot(klist1D[mm],resid1D[mm]*klist1D[mm]**3./(2.*np.pi**2.),'-b',label='residual with uncorrected reflections')\n",
    "#plt.plot(klist1D[mm],foreground1D[mm]*klist1D[mm]**3./(2.*np.pi**2.),':b',label='unsubtracted foregrounds with no reflection')\n",
    "plt.xscale('log')\n",
    "plt.yscale('log')\n",
    "plt.ylabel('$\\\\Delta^2$(k) (mK$^2$)',fontsize=30)\n",
    "plt.xlabel('k (hMpc$^{-1}$)',fontsize=30)\n",
    "plt.gca().tick_params('x',labelsize=30)\n",
    "plt.gca().tick_params('y',labelsize=30)\n",
    "\n",
    "\n",
    "plt.ylim([1e-2,1e4])\n",
    "plt.legend(loc='best')\n",
    "plt.gcf().set_size_inches(8,8)\n",
    "plt.gca().set_aspect('auto')\n",
    "plt.savefig('../../spec_memo/figures/hera_1dPower_EoR_feed.pdf',bbox_inches='tight')\n",
    "\n",
    "\n"
   ]
  },
  {
   "cell_type": "code",
   "execution_count": null,
   "metadata": {
    "collapsed": false
   },
   "outputs": [],
   "source": [
    "#fig,axarr=plt.subplots(2,len(datalist)/2,sharex=True,sharey=True)\n",
    "print klist1D[0]\n",
    "mm=0\n",
    "#klist1D[mm],usq1D[mm]*resid1D[mm][5]/usq1D[mm][5]*klist1D[mm]**3./(2.*np.pi**2.),\n",
    "#plt.plot(klist1D[mm],noise1D[mm]*klist1D[mm]**3./(2.*np.pi**2.)*1e6,':r',klist1D[mm],signal1D[mm]*klist1D[mm]**3./(2.*np.pi**2.),'-k',klist1D[mm],resid1D[mm]*klist1D[mm]**3./(2.*np.pi**2.),'-b',klist1D[mm],foreground1D[mm]*klist1D[mm]**3./(2.*np.pi**2.),':b')\n",
    "plt.plot(klist1D[mm],signal1D[mm],'-k',label='signal')\n",
    "plt.plot(klist1D[mm],resid1D[mm],'-b',label='residual with uncorrected reflections')\n",
    "plt.plot(klist1D[mm],foreground1D[mm],':b',label='unsubtracted foregrounds with no reflection')\n",
    "plt.xscale('log')\n",
    "plt.yscale('log')\n",
    "plt.ylabel('$P(k)$ (h$^{-3}$Mpc$^{3}$ mK$^2$)')\n",
    "plt.xlabel('k (hMpc$^{-1}$)')\n",
    "#plt.ylim([1e-3,1e12])\n",
    "plt.legend(loc='best')\n",
    "plt.gcf().set_size_inches(8,8)\n",
    "plt.gca().set_aspect('auto')\n",
    "plt.savefig('../../spec_memo/figures/hera_Ps_EoR_feed.pdf',bbox_inches='tight')\n",
    "\n"
   ]
  },
  {
   "cell_type": "code",
   "execution_count": null,
   "metadata": {
    "collapsed": false
   },
   "outputs": [],
   "source": [
    "np.all(flags)"
   ]
  },
  {
   "cell_type": "code",
   "execution_count": null,
   "metadata": {
    "collapsed": false
   },
   "outputs": [],
   "source": [
    "#fig,axarr=plt.subplots(2,len(datalist)/2,sharex=True,sharey=True)\n",
    "mm=0\n",
    "plt.plot(klist1D[mm],noise1Dr[mm]*klist1D[mm]**3./(2.*np.pi**2.)*1e6,'--r',klist1D[mm],noise1D[mm]*klist1D[mm]**3./(2.*np.pi**2.)*1e6,':r',klist1D[mm],signal1D[mm]*klist1D[mm]**3./(2.*np.pi**2.),'-k',klist1D[mm],resid1D[mm]*klist1D[mm]**3./(2.*np.pi**2.),'-b',klist1D[mm],resid1Dr[mm]*klist1D[mm]**3./(2.*np.pi**2.),'--b',klist1D[mm],foreground1D[mm]*klist1D[mm]**3./(2.*np.pi**2.),':b')\n",
    "plt.xscale('log')\n",
    "plt.yscale('log')\n",
    "plt.ylabel('$\\\\Delta^2$(k) (mK$^2$)')\n",
    "plt.xlabel('k (Mpc$^{-1}$)')\n",
    "plt.ylim([1e-2,1e12])\n",
    "plt.gca().set_aspect('auto')"
   ]
  },
  {
   "cell_type": "code",
   "execution_count": null,
   "metadata": {
    "collapsed": false
   },
   "outputs": [],
   "source": [
    "kperp_list"
   ]
  },
  {
   "cell_type": "code",
   "execution_count": null,
   "metadata": {
    "collapsed": false
   },
   "outputs": [],
   "source": [
    "plotps2d_list(kperp_list,kpara_list,psbin_resid_list,'P$_{fg}$(Mpc$^3$mK$^2$)','kperp','kpara',vmin=2.,vmax=15)"
   ]
  },
  {
   "cell_type": "code",
   "execution_count": null,
   "metadata": {
    "collapsed": false
   },
   "outputs": [],
   "source": [
    "theory=psgrid_list(kperp_list,kpara_list,z_list)\n",
    "ratios=[]\n",
    "for mm in range(len(theory)):\n",
    "    ratios.append(theory[mm]/psbin_resid_list[mm])"
   ]
  },
  {
   "cell_type": "code",
   "execution_count": null,
   "metadata": {
    "collapsed": false
   },
   "outputs": [],
   "source": [
    "plotps2d_list(kperp_list,kpara_list,ratios,'P$_{21}$/P$_r$','kperp','kpara',vmin=-5,vmax=3)"
   ]
  },
  {
   "cell_type": "code",
   "execution_count": null,
   "metadata": {
    "collapsed": false
   },
   "outputs": [],
   "source": []
  },
  {
   "cell_type": "code",
   "execution_count": null,
   "metadata": {
    "collapsed": false
   },
   "outputs": [],
   "source": []
  },
  {
   "cell_type": "code",
   "execution_count": null,
   "metadata": {
    "collapsed": false
   },
   "outputs": [],
   "source": [
    "fc"
   ]
  },
  {
   "cell_type": "code",
   "execution_count": null,
   "metadata": {
    "collapsed": false
   },
   "outputs": [],
   "source": []
  }
 ],
 "metadata": {
  "kernelspec": {
   "display_name": "Python 2",
   "language": "python",
   "name": "python2"
  },
  "language_info": {
   "codemirror_mode": {
    "name": "ipython",
    "version": 2
   },
   "file_extension": ".py",
   "mimetype": "text/x-python",
   "name": "python",
   "nbconvert_exporter": "python",
   "pygments_lexer": "ipython2",
   "version": "2.7.10"
  }
 },
 "nbformat": 4,
 "nbformat_minor": 0
}

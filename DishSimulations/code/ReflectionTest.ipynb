{
 "cells": [
  {
   "cell_type": "markdown",
   "metadata": {},
   "source": [
    "Consider two antennas sampling a sky signal. Let each antenna introduce a series of reflections\n",
    "\\begin{equation}\n",
    "v_1(t) = \\sum_m r_1(\\tau_m)v(t-\\tau_m) \n",
    "\\end{equation}\n",
    "and a second antenna where the signal is delayed by an additional geometric factor of $\\tau$ as is the case in an interferometer.\n",
    "\\begin{equation}\n",
    "v_2(t) = \\sum_n r_2(\\tau_m)v(t-\\tau_n+ \\tau)\n",
    "\\end{equation}\n",
    "It has been recently claimed, that the result of a correlation between the two antennas only depends on the product of the virst visibility with zero delay reflection of the second\n",
    "\\begin{equation}\n",
    "\\widetilde{V}_{12}(f) = \\sum_m r_m \\langle |v(t - \\tau_m) |^2 \\rangle?\n",
    "\\end{equation}\n",
    "or\n",
    "\\begin{equation}\n",
    "V_{12}(f) = \\langle |\\widetilde{v}(f)|^2 \\rangle \\sum_m r_m e^{2 \\pi i f (\\tau_m- \\tau)}?\n",
    "\\end{equation}\n",
    "This immediately strikes me as wrong for two reasons. First, if the two antennas have different reflections, the delay structure of the visibility given in the above equation depends on the choice of first or second antenna. In order for this to not be the case, the equation for visibility contamination must have terms from both antennas. Second, one can directly calculate the correlation using the Fourier Convolution Theorem. The correlator measures the Fourier transform of the correlation of the two signals (or equivalently the product of their Fourier transforms). \n",
    "\\begin{align}\n",
    "V_{12}(f) &=\\int dt e^{2 \\pi i f t} \\left \\langle \\int dt' \\sum_m r_1(\\tau_m) v(t-\\tau_m) \\sum_n r_2(\\tau_n) v(t-\\tau_n+\\tau-t')\\right \\rangle\\\\\n",
    "&= \\left \\langle \\sum_m r_m \\widetilde{v}(f)e^{2 \\pi i f \\tau_m} \\sum_n r_n^* \\widetilde{v}^*(f)e^{2 \\pi i f \\tau_n} \\right \\rangle e^{-2 \\pi i \\tau}\\\\\n",
    "&= \\sum_{m,n} r_m r_n^* e^{2 \\pi i \\Delta \\tau_{mn} } \\left \\langle | \\widetilde{v}(f)|^2 \\right \\rangle e^{- 2 \\pi i \\tau}\n",
    "\\end{align}\n",
    "This is precisely the mathematical steps that an FX correlator performs."
   ]
  },
  {
   "cell_type": "markdown",
   "metadata": {},
   "source": [
    "To double check my math, I run a numerical simulation. I take a single stream of gaussian random noise with an independent sample every 1 ns. I sample for 1 $\\mu$s. In the first antenna, I assume that there is a reflection at 90 ns and 180 ns (both with amplitude .5) and in the second I assume a reflection at  400 ns and 600 ns. (with amplitude .25). I assume that both antennas are offset by 100 ns (to account for hypothetical geometrical delay). I average the correlation of the signals over 10 draws."
   ]
  },
  {
   "cell_type": "code",
   "execution_count": 189,
   "metadata": {
    "collapsed": false
   },
   "outputs": [],
   "source": [
    "%matplotlib inline\n",
    "import numpy as np\n",
    "import matplotlib.pyplot as plt\n",
    "import scipy.signal as signal"
   ]
  },
  {
   "cell_type": "code",
   "execution_count": 246,
   "metadata": {
    "collapsed": false
   },
   "outputs": [],
   "source": [
    "ndraw=10\n",
    "nt=1000\n",
    "offset=0\n",
    "ampList1=[1.,.5,.5]\n",
    "ampList2=[1.,.25,.25]\n",
    "delayList1=[0,90,180]\n",
    "delayList2=[0,250,350]\n",
    "\n",
    "#delayList1=np.arange(20).astype(int)\n",
    "#ampList1=((1.+delayList1.astype(float))/100.)*-1\n",
    "#delayList2=delayList1\n",
    "#ampList2=ampList1*.2\n",
    "          \n",
    "CrossCorr=np.zeros(nt)\n",
    "for draw in range(ndraw):\n",
    "    sample=np.random.randn(2*nt)\n",
    "    sig1=np.zeros(nt)\n",
    "    sig2=np.zeros(nt)\n",
    "    for dNum in range(len(delayList1)):\n",
    "        sig1+=ampList1[dNum]*sample[(0+delayList1[dNum]):(delayList1[dNum]+nt)]\n",
    "    for dNum in range(len(delayList2)):\n",
    "        sig2+=ampList2[dNum]*sample[(0+delayList2[dNum]+offset):(delayList2[dNum]+nt+offset)]\n",
    "    CrossCorr+=np.correlate(sig1,sig2,mode='same')\n",
    "CrossCorr=CrossCorr/(ndraw*nt)\n",
    "tList=np.arange(-nt/2,nt/2)\n",
    "\n",
    "theory=np.zeros(nt)\n",
    "for mm in range(len(ampList1)):\n",
    "    for nn in range(len(ampList2)):\n",
    "        theory[-delayList1[mm]+delayList2[nn]+offset+500]+=ampList1[mm]*ampList2[nn]"
   ]
  },
  {
   "cell_type": "code",
   "execution_count": 248,
   "metadata": {
    "collapsed": false
   },
   "outputs": [
    {
     "data": {
      "text/plain": [
       "<matplotlib.legend.Legend at 0x4d6acb38>"
      ]
     },
     "execution_count": 248,
     "metadata": {},
     "output_type": "execute_result"
    },
    {
     "data": {
      "image/png": "[encoded data removed]",
      "text/plain": [
       "<matplotlib.figure.Figure at 0x4d78e518>"
      ]
     },
     "metadata": {},
     "output_type": "display_data"
    }
   ],
   "source": [
    "plt.plot(tList,theory,lw=3,label='Theory')\n",
    "plt.plot(tList,CrossCorr,lw=2,label='Simulation')\n",
    "\"\"\"\n",
    "for mm in range(len(delayList1)):\n",
    "    for nn in range(len(delayList2)):\n",
    "        if(mm==0 or nn==0):\n",
    "            plt.axvline(-delayList1[mm]+delayList2[nn]+offset,color='k',ls='-',lw=.5)\n",
    "        else:\n",
    "            plt.axvline(-delayList1[mm]+delayList2[nn]+offset,color='k',ls='--',lw=.5)\n",
    "\"\"\"\n",
    "plt.xlabel('$\\\\tau$(ns)')\n",
    "plt.ylabel('Amplitude')\n",
    "plt.xlim(-500,500)\n",
    "plt.legend(loc='upper left')"
   ]
  },
  {
   "cell_type": "code",
   "execution_count": null,
   "metadata": {
    "collapsed": true
   },
   "outputs": [],
   "source": []
  }
 ],
 "metadata": {
  "kernelspec": {
   "display_name": "Python 2",
   "language": "python",
   "name": "python2"
  },
  "language_info": {
   "codemirror_mode": {
    "name": "ipython",
    "version": 2
   },
   "file_extension": ".py",
   "mimetype": "text/x-python",
   "name": "python",
   "nbconvert_exporter": "python",
   "pygments_lexer": "ipython2",
   "version": "2.7.6"
  }
 },
 "nbformat": 4,
 "nbformat_minor": 0
}

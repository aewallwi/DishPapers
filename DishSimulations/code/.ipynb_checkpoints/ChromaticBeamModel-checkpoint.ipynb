{
 "cells": [
  {
   "cell_type": "markdown",
   "metadata": {},
   "source": [
    "In this notebook, we model the chromatic beam using a combination of angular beam measurements and time domain simulations"
   ]
  },
  {
   "cell_type": "code",
   "execution_count": 2,
   "metadata": {
    "collapsed": false
   },
   "outputs": [
    {
     "name": "stdout",
     "output_type": "stream",
     "text": [
      "0.048252\n"
     ]
    },
    {
     "name": "stderr",
     "output_type": "stream",
     "text": [
      "/Users/aaronew/default/lib/python2.7/site-packages/IPython/kernel/__init__.py:13: ShimWarning: The `IPython.kernel` package has been deprecated. You should import from ipykernel or jupyter_client instead.\n",
      "  \"You should import from ipykernel or jupyter_client instead.\", ShimWarning)\n"
     ]
    }
   ],
   "source": [
    "%matplotlib inline\n",
    "import matplotlib.pyplot as plt\n",
    "import numpy as np\n",
    "import numpy.fft as fft\n",
    "import copy,csv\n",
    "import scipy.signal as signal\n",
    "import scipy.interpolate as interp\n",
    "import scipy.optimize as op\n",
    "import cosmology as cosmo"
   ]
  },
  {
   "cell_type": "code",
   "execution_count": 3,
   "metadata": {
    "collapsed": true
   },
   "outputs": [],
   "source": [
    "planeWaveFeedAndDish=np.loadtxt('../data/feedSim_500ns_pW.txt',skiprows=2)\n",
    "voltageResponseFeedAndDish=np.loadtxt('../data/feedSim_500ns_o1.txt',skiprows=2)\n",
    "\n",
    "planeWaveFeedAndDishNS=np.loadtxt('../data/feedSim_noSkirt_1000ns_pw.txt',skiprows=2)\n",
    "voltageResponseFeedAndDishNS=np.loadtxt('../data/feedSim_noSkirt_1000ns_o1.txt',skiprows=2)\n",
    "\n",
    "planeWaveFeedAndDish20Deg=np.loadtxt('../data/PW20deg_pw.txt')\n",
    "voltageResponseFeedAndDish20Deg=np.loadtxt('../data/PW20deg_o1.txt')\n",
    "\n",
    "\n",
    "ntFeedAndDish20Deg=len(planeWaveFeedAndDish20Deg)\n",
    "dtFeedAndDish20Deg=planeWaveFeedAndDish20Deg[1,0]-planeWaveFeedAndDish20Deg[0,0]\n",
    "ntFeedAndDish=len(planeWaveFeedAndDish)\n",
    "dtFeedAndDish=voltageResponseFeedAndDish[1,0]-voltageResponseFeedAndDish[0,0]\n",
    "dtFeedAndDishNS=voltageResponseFeedAndDishNS[1,0]-voltageResponseFeedAndDishNS[0,0]\n",
    "ntFeedAndDishNS=len(planeWaveFeedAndDishNS)"
   ]
  },
  {
   "cell_type": "code",
   "execution_count": 4,
   "metadata": {
    "collapsed": false
   },
   "outputs": [
    {
     "name": "stdout",
     "output_type": "stream",
     "text": [
      "204\n"
     ]
    }
   ],
   "source": [
    "#delay trace of zenith pointing\n",
    "pwPadFeedAndDish=np.pad(planeWaveFeedAndDish[:,1],(ntFeedAndDish*.5,ntFeedAndDish*.5),mode='constant')\n",
    "vrPadFeedAndDish=np.pad(voltageResponseFeedAndDish[:,1],(ntFeedAndDish*.5,ntFeedAndDish*.5),mode='constant')\n",
    "                        \n",
    "fAxisPadFeedAndDish=(fft.fftfreq(len(vrPadFeedAndDish),dtFeedAndDish))\n",
    "fWaveFeedAndDish=fft.fft(fft.fftshift(pwPadFeedAndDish))\n",
    "fResponseFeedAndDish=fft.fft(fft.fftshift(vrPadFeedAndDish))\n",
    "dfFeedAndDish=fAxisPadFeedAndDish[1]-fAxisPadFeedAndDish[0]\n",
    "\n",
    "selectionPos=np.logical_and(fAxisPadFeedAndDish>=50./1e3,fAxisPadFeedAndDish<=250./1e3)\n",
    "selectionNeg=np.logical_and(-fAxisPadFeedAndDish>=50./1e3,-fAxisPadFeedAndDish<=250./1e3)\n",
    "nSelect=len(fAxisPadFeedAndDish[selectionPos])\n",
    "print nSelect\n",
    "windowFeedAndDish=np.hamming(nSelect)\n",
    "#windowFeedAndDish=signal.blackmanharris(nSelect)\n",
    "windowFeedAndDish=windowFeedAndDish/windowFeedAndDish.mean()\n",
    "windowFeedAndDishFull=np.zeros(2*ntFeedAndDish)\n",
    "windowFeedAndDishFull[selectionPos]=windowFeedAndDish\n",
    "windowFeedAndDishFull[selectionNeg]=windowFeedAndDish\n",
    "delayResponseFeedAndDish=fft.fftshift(fft.ifft(fft.fftshift((windowFeedAndDishFull*fResponseFeedAndDish/fWaveFeedAndDish)[selectionPos])))\n",
    "tAxisFeedAndDish=fft.fftshift(fft.fftfreq(len(delayResponseFeedAndDish),dfFeedAndDish))"
   ]
  },
  {
   "cell_type": "code",
   "execution_count": 5,
   "metadata": {
    "collapsed": false
   },
   "outputs": [
    {
     "name": "stdout",
     "output_type": "stream",
     "text": [
      "215\n"
     ]
    }
   ],
   "source": [
    "#delay trace of sidelobe\n",
    "pwPadFeedAndDish20Deg=np.pad(planeWaveFeedAndDish20Deg[:,1],(ntFeedAndDish20Deg*.5,ntFeedAndDish20Deg*.5),mode='constant')\n",
    "vrPadFeedAndDish20Deg=np.pad(voltageResponseFeedAndDish20Deg[:,1],(ntFeedAndDish20Deg*.5,ntFeedAndDish20Deg*0.5),mode='constant')\n",
    "                        \n",
    "fAxisPadFeedAndDish20Deg=(fft.fftfreq(len(vrPadFeedAndDish20Deg),dtFeedAndDish20Deg))\n",
    "fWaveFeedAndDish20Deg=fft.fft(fft.fftshift(pwPadFeedAndDish20Deg))\n",
    "fResponseFeedAndDish20Deg=fft.fft(fft.fftshift(vrPadFeedAndDish20Deg))\n",
    "dfFeedAndDish20Deg=fAxisPadFeedAndDish20Deg[1]-fAxisPadFeedAndDish20Deg[0]\n",
    "\n",
    "selectionPos=np.logical_and(fAxisPadFeedAndDish20Deg>=50./1e3,fAxisPadFeedAndDish20Deg<=250./1e3)\n",
    "selectionNeg=np.logical_and(-fAxisPadFeedAndDish20Deg>=50./1e3,-fAxisPadFeedAndDish20Deg<=250./1e3)\n",
    "nSelect=len(fAxisPadFeedAndDish20Deg[selectionPos])\n",
    "print nSelect\n",
    "windowFeedAndDish20Deg=np.hamming(nSelect)\n",
    "#windowFeedAndDish=signal.blackmanharris(nSelect)\n",
    "windowFeedAndDish20Deg=windowFeedAndDish20Deg/windowFeedAndDish20Deg.mean()\n",
    "windowFeedAndDishFull20Deg=np.zeros(ntFeedAndDish20Deg*2)\n",
    "windowFeedAndDishFull20Deg[selectionPos]=windowFeedAndDish20Deg\n",
    "windowFeedAndDishFull20Deg[selectionNeg]=windowFeedAndDish20Deg\n",
    "delayResponseFeedAndDish20Deg=fft.fftshift(fft.ifft(fft.fftshift((windowFeedAndDishFull20Deg*fResponseFeedAndDish20Deg/fWaveFeedAndDish20Deg)[selectionPos])))\n",
    "tAxisFeedAndDish20Deg=fft.fftshift(fft.fftfreq(len(delayResponseFeedAndDish20Deg),dfFeedAndDish20Deg))"
   ]
  },
  {
   "cell_type": "code",
   "execution_count": 6,
   "metadata": {
    "collapsed": false
   },
   "outputs": [],
   "source": [
    "def pivotFunc(x,a,b,c):\n",
    "    xbelow=x<c\n",
    "    xabove=x>=c\n",
    "    output=np.zeros(len(x))\n",
    "    output[xbelow]=a**x[xbelow]\n",
    "    output[xabove]=(a**c)*b**(x[xabove])\n",
    "    return output"
   ]
  },
  {
   "cell_type": "code",
   "execution_count": 40,
   "metadata": {
    "collapsed": true
   },
   "outputs": [],
   "source": [
    "def pivotFuncLog(x,a,b,c):\n",
    "    xbelow=x<c\n",
    "    xabove=x>=c\n",
    "    output=np.zeros(len(x))\n",
    "    output[xbelow]=np.log10(a)*x[xbelow]\n",
    "    output[xabove]=np.log10(a)*c+np.log10(b)*(x[xabove]-c)\n",
    "    return output"
   ]
  },
  {
   "cell_type": "code",
   "execution_count": 45,
   "metadata": {
    "collapsed": false,
    "scrolled": true
   },
   "outputs": [
    {
     "name": "stdout",
     "output_type": "stream",
     "text": [
      "[  0.92727325   0.98658702  70.21497865]\n",
      "[  0.94658355   0.98794711  65.54491798]\n"
     ]
    },
    {
     "data": {
      "text/plain": [
       "(-100, 10)"
      ]
     },
     "execution_count": 45,
     "metadata": {},
     "output_type": "execute_result"
    },
    {
     "data": {
      "image/png": "[encoded data removed]",
      "text/plain": [
       "<matplotlib.figure.Figure at 0x1173d0cd0>"
      ]
     },
     "metadata": {},
     "output_type": "display_data"
    }
   ],
   "source": [
    "nVal=np.abs(delayResponseFeedAndDish).max()\n",
    "nVal20=np.abs(delayResponseFeedAndDish20Deg).max()\n",
    "\n",
    "\n",
    "plt.plot(tAxisFeedAndDish-35,20*np.log10(np.abs(delayResponseFeedAndDish)/nVal))\n",
    "plt.plot(tAxisFeedAndDish20Deg-40,20*np.log10(np.abs(delayResponseFeedAndDish20Deg)/nVal20))\n",
    "\n",
    "#fit to line\n",
    "fitfunc = lambda x,a,b: a*x+b\n",
    "\n",
    "selZ=np.logical_and(tAxisFeedAndDish-35.>=0.,tAxisFeedAndDish-35.<=400.)\n",
    "fParams,_=op.curve_fit(pivotFuncLog,tAxisFeedAndDish[selZ]-35.,np.log10(np.abs(delayResponseFeedAndDish[selZ])/nVal),p0=[1.,1.,20.])\n",
    "sel20Deg=np.logical_and(tAxisFeedAndDish20Deg-40.>=0.,tAxisFeedAndDish20Deg-40.<=400.)\n",
    "fParams20Deg,_=op.curve_fit(pivotFuncLog,tAxisFeedAndDish20Deg[sel20Deg]-35.,np.log10(np.abs(delayResponseFeedAndDish[sel20Deg])/nVal20),p0=[1.,1.,10.])\n",
    "\n",
    "\n",
    "\n",
    "print fParams\n",
    "print fParams20Deg\n",
    "\n",
    "plt.plot((tAxisFeedAndDish[selZ]-35.),20*np.log10(np.abs(pivotFunc(tAxisFeedAndDish[selZ]-35.,fParams[0],fParams[1],fParams[2]))))\n",
    "plt.plot((tAxisFeedAndDish20Deg[sel20Deg]-40.),20*np.log10(np.abs(pivotFunc(tAxisFeedAndDish20Deg[sel20Deg]-40.,fParams20Deg[0],fParams20Deg[1],fParams20Deg[2]))))\n",
    "\n",
    "#lets try a simple linear fit to the response\n",
    "\n",
    "def paramFunc(polarAngle):\n",
    "    a=(fParams20Deg[0]-fParams[0])/20.*polarAngle+fParams[0]\n",
    "    b=(fParams20Deg[1]-fParams[0])/20.*polarAngle+fParams[1]\n",
    "    c=(fParams20Deg[2]-fParams[2])/20.*polarAngle+fParams[2]\n",
    "    return (a,b,c)\n",
    "    \n",
    "for pAngle in [0.,20,40,60,80]:\n",
    "    plt.plot(tAxisFeedAndDish[selZ]-35.,20.*np.log10(np.abs(pivotFunc(tAxisFeedAndDish[selZ]-35.,*paramFunc(pAngle)))))\n",
    "\n",
    "plt.xlim(-30,500)\n",
    "plt.ylim(-100,10)"
   ]
  },
  {
   "cell_type": "code",
   "execution_count": 21,
   "metadata": {
    "collapsed": false
   },
   "outputs": [
    {
     "data": {
      "image/png": "[encoded data removed]",
      "text/plain": [
       "<matplotlib.figure.Figure at 0x11624dad0>"
      ]
     },
     "metadata": {},
     "output_type": "display_data"
    }
   ],
   "source": [
    "df=100e3\n",
    "band=100e6\n",
    "dT=1/band\n",
    "nT=int(band/df)\n",
    "if(np.mod(nT,2)==1):\n",
    "    nT+=2\n",
    "    \n",
    "tFull=np.arange(-nT/2,nT/2)*dT\n",
    "delayBand=np.zeros(len(tFull))\n",
    "delayBand[tFull>=0]=pivotFunc(tFull[tFull>=0]*1e9,*fParams)\n",
    "plt.plot(tFull*1e9,delayBand)\n",
    "plt.xlim(-30,60)\n",
    "fBand=fft.fftshift(fft.fft(fft.fftshift(delayBand)))\n",
    "fAxis=fft.fftshift(fft.fftfreq(len(delayBand),tFull[1]-tFull[0]))"
   ]
  },
  {
   "cell_type": "code",
   "execution_count": 32,
   "metadata": {
    "collapsed": false
   },
   "outputs": [
    {
     "name": "stdout",
     "output_type": "stream",
     "text": [
      "2500.0\n",
      "1500\n"
     ]
    },
    {
     "data": {
      "text/plain": [
       "[<matplotlib.lines.Line2D at 0x116b3c650>]"
      ]
     },
     "execution_count": 32,
     "metadata": {},
     "output_type": "execute_result"
    },
    {
     "data": {
      "image/png": "[encoded data removed]",
      "text/plain": [
       "<matplotlib.figure.Figure at 0x116c44b90>"
      ]
     },
     "metadata": {},
     "output_type": "display_data"
    }
   ],
   "source": [
    "#generate 250MHz Hamming window\n",
    "print len(fBand)*250./100.\n",
    "wCorrect=np.hamming(int(len(fBand)*250./100.))\n",
    "dFactor=len(wCorrect)-len(fBand)\n",
    "print dFactor\n",
    "wCorrect=wCorrect[dFactor/2:-dFactor/2]\n",
    "plt.plot(fAxis,np.real(fBand/wCorrect))\n",
    "plt.plot(fAxis,np.imag(fBand/wCorrect))"
   ]
  },
  {
   "cell_type": "code",
   "execution_count": null,
   "metadata": {
    "collapsed": true
   },
   "outputs": [],
   "source": []
  }
 ],
 "metadata": {
  "kernelspec": {
   "display_name": "Python 2",
   "language": "python",
   "name": "python2"
  },
  "language_info": {
   "codemirror_mode": {
    "name": "ipython",
    "version": 2
   },
   "file_extension": ".py",
   "mimetype": "text/x-python",
   "name": "python",
   "nbconvert_exporter": "python",
   "pygments_lexer": "ipython2",
   "version": "2.7.10"
  }
 },
 "nbformat": 4,
 "nbformat_minor": 0
}
